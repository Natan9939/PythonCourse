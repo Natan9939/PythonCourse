{
  "nbformat": 4,
  "nbformat_minor": 0,
  "metadata": {
    "colab": {
      "name": "Copy of Lists and Dictionaries Challenges.ipynb",
      "provenance": [],
      "collapsed_sections": [],
      "include_colab_link": true
    },
    "kernelspec": {
      "name": "python3",
      "display_name": "Python 3"
    },
    "language_info": {
      "name": "python"
    }
  },
  "cells": [
    {
      "cell_type": "markdown",
      "metadata": {
        "id": "view-in-github",
        "colab_type": "text"
      },
      "source": [
        "<a href=\"https://colab.research.google.com/github/Natan9939/PythonCourse/blob/main/Lists_and_Dictionaries_Challenges.ipynb\" target=\"_parent\"><img src=\"https://colab.research.google.com/assets/colab-badge.svg\" alt=\"Open In Colab\"/></a>"
      ]
    },
    {
      "cell_type": "markdown",
      "metadata": {
        "id": "nEJLJX3J9B2k"
      },
      "source": [
        "# Some challenges to help you become more confident with using Lists, Tuples and Dictionaries\n",
        "\n",
        "---\n",
        "\n"
      ]
    },
    {
      "cell_type": "markdown",
      "metadata": {
        "id": "JvV6htgh9Nc1"
      },
      "source": [
        "### Exercise 1 - extending a list\n",
        "\n",
        "There are three ways to extend a list in Python:  \n",
        "*  use `list_name.append(item)`, `list_name.insert(item)`\n",
        "*  concatenate two lists using the + operator (e.g. new_list = list1 + list2)\n",
        "*  use `list1_name.extend(list2_name)`\n",
        "\n",
        "The last method allows us to add all the `list2` items onto `list1` and for the new, extended list to now be `list1`.  `list2` will always be added to the end of `list1`.  \n",
        "\n",
        "If the objective is to add list2 before list1 then use `list2.extend(list1)`\n",
        "\n",
        "Write a function which will:  \n",
        "*  create a list of **years** containing the years 1960, 1970, 1980, 1990, 2000  \n",
        "*  print the list of years  \n",
        "*  calculate how long ago each year was and print the year and how long ago it was (e.g. 1990 was 30 years ago)  *(Hint:  use the datetime library to get the current year)*   \n",
        "*  create a second list, **years2** containing the years 2010 and 2020, extend `years` to include these later years\n",
        "*  create a third list, **years3** containing the years 1930, 1940 and 1950 and extend the list to include all the years between 1930 and 2020\n",
        "*  print the final list\n",
        "\n",
        "Expected output:  \n",
        "[1960, 1970, 1980, 1990]  \n",
        "1960 was 61 years ago  \n",
        "1970 was 51 years ago  \n",
        "1980 was 41 years ago  \n",
        "1990 was 31 years ago  \n",
        "2000 was 21 years ago  \n",
        "[1930, 1940, 1950, 1960, 1970, 1980, 1990, 2000, 2010, 2020] "
      ]
    },
    {
      "cell_type": "code",
      "metadata": {
        "id": "QAyTVqoO8-08",
        "colab": {
          "base_uri": "https://localhost:8080/"
        },
        "outputId": "d3bcb041-0fc5-4099-ec62-7ac99778ed91"
      },
      "source": [
        "from datetime import datetime\n",
        "def extend():\n",
        "  years = [1960, 1970, 1980, 1990, 2000]\n",
        "  print(years)\n",
        "  currentYear = int(datetime.now().strftime(\"%Y\"))\n",
        "  for i in years:\n",
        "    yearsAgo = currentYear - i\n",
        "    print(i, \"was\", yearsAgo, \"years ago\")\n",
        "  years2 = [2010,2020]\n",
        "  years.extend(years2)\n",
        "  print(years)\n",
        "  years3 = [1930,1940,1950]\n",
        "  years3.extend(years)\n",
        "  print(years3)\n",
        "extend()"
      ],
      "execution_count": null,
      "outputs": [
        {
          "output_type": "stream",
          "name": "stdout",
          "text": [
            "[1960, 1970, 1980, 1990, 2000]\n",
            "1960 was 62 years ago\n",
            "1970 was 52 years ago\n",
            "1980 was 42 years ago\n",
            "1990 was 32 years ago\n",
            "2000 was 22 years ago\n",
            "[1960, 1970, 1980, 1990, 2000, 2010, 2020]\n",
            "[1930, 1940, 1950, 1960, 1970, 1980, 1990, 2000, 2010, 2020]\n"
          ]
        }
      ]
    },
    {
      "cell_type": "markdown",
      "metadata": {
        "id": "S5iPicFzBzOW"
      },
      "source": [
        "---\n",
        "### Exercise 2 - creating a dictionary from a tuple and three lists\n",
        "\n",
        "Write a function which will create a list of dictionary items using the values in a tuple as the dictionary keys and the values in three corresponding lists as the dictionary values.\n",
        "\n",
        "*  loop through the status items in the tuple called task_status\n",
        "*  for each status, loop through the list with the same name (*Hint:  you can use eval(status) to access the list with the matching name  e.g. for task in eval(status)* )\n",
        "*  each time round this second loop, create a dictionary object with the  key:value pair {status : task}\n",
        "*  add each new dictionary to a list called **project_board** that was created as an empty list before the loops  \n",
        "*  print the project_board list\n",
        "\n",
        "Expected output:  \n",
        "\n",
        "[{'assigned': 'task1'}, {'assigned': 'task2'}, {'assigned': 'task3'}, {'inprogress': 'task4'}, {'inprogress': 'task5'}, {'inprogress': 'task6'}, {'completed': 'task7'}, {'completed': 'task8'}, {'completed': 'task9'}] \n",
        "\n"
      ]
    },
    {
      "cell_type": "code",
      "metadata": {
        "id": "KXYOSHY-C7m4",
        "colab": {
          "base_uri": "https://localhost:8080/"
        },
        "outputId": "2e4d13fd-1cb8-463a-8017-b2b0331102b8"
      },
      "source": [
        "def create_project_board():\n",
        "  task_status = (\"assigned\", \"inprogress\", \"completed\")\n",
        "  assigned = ['task1','task2','task3']\n",
        "  inprogress = ['task4','task5','task6']\n",
        "  completed = ['task7','task8','task9']\n",
        "  #  add your code below here\n",
        "\n",
        "  projectBoard = []\n",
        "  for status in task_status:\n",
        "    for task in eval(status):\n",
        "      newDict = {status:task}\n",
        "      projectBoard.append(newDict)\n",
        "  print(projectBoard)\n",
        "\n",
        "create_project_board()\n"
      ],
      "execution_count": null,
      "outputs": [
        {
          "output_type": "stream",
          "name": "stdout",
          "text": [
            "[{'assigned': 'task1'}, {'assigned': 'task2'}, {'assigned': 'task3'}, {'inprogress': 'task4'}, {'inprogress': 'task5'}, {'inprogress': 'task6'}, {'completed': 'task7'}, {'completed': 'task8'}, {'completed': 'task9'}]\n"
          ]
        }
      ]
    },
    {
      "cell_type": "markdown",
      "metadata": {
        "id": "M1BuTu9p19Ma"
      },
      "source": [
        "---\n",
        "### Exercise 3 - names and heights\n",
        "\n",
        "Write a function which will allow a user to enter the names and heights of a set of people and add each set of information as a record (dictionary) to a list. The function will stop collecting names and heights when the user enters \"STOP\" as the name.\n",
        "\n",
        "Then, the function will:  \n",
        "\n",
        "*   produce a list of names in order of the shortest person to the tallest\n",
        "*   calculate the name of the tallest person\n",
        "*   calculate the name of the shortest person\n",
        "*   calculate the average height\n",
        "*   calculate the name of the person who is closest to the average height\n",
        "\n",
        "\n",
        "\n",
        "\n"
      ]
    },
    {
      "cell_type": "code",
      "metadata": {
        "id": "reuyww3e18uv",
        "colab": {
          "base_uri": "https://localhost:8080/"
        },
        "outputId": "e1c9d70e-1c62-4baf-b871-0b51b42dd890"
      },
      "source": [
        "def names_heights():\n",
        "  names = []\n",
        "  heights = []\n",
        "  userDict = {}\n",
        "  inputName = \"\"\n",
        "  sortedDict = {}\n",
        "  sorted_values = sorted(userDict.values())\n",
        "  while inputName != \"STOP\": #Main loop aasking for user input and check if stop is entered\n",
        "    inputName = input(\"Enter a name, or type STOP \")\n",
        "    if inputName != \"STOP\": #If user didn't enter stop, proceed to add their name to list and ask for height and input that to the height list and update the userDict with entered name and height.\n",
        "      inputHeight = int(input(\"Enter height in cm \"))\n",
        "      heights.append(inputHeight)\n",
        "      userDict.update({inputName: inputHeight})\n",
        " \n",
        "\n",
        "  # userDict = {'Max': 143, 'John': 173, \"Zac\": 153}\n",
        "  # heights = [153,173,143]\n",
        "  sorted_values = sorted(userDict.values())\n",
        "  for i in sorted_values:\n",
        "    for key in userDict.keys():\n",
        "        if userDict[key] == i:\n",
        "            sortedDict[key] = userDict[key]\n",
        "            break\n",
        "  print(\"List of people by order of height from shortest to tallest\", sortedDict)\n",
        "\n",
        "  #Finding smallest, biggest and closest to avg height using a loop, by going through each key and value in dict\n",
        "  avgHeight = sum(heights) / len(heights)\n",
        "  currentBiggestHeight = 0\n",
        "  currentSmallestHeight = 999\n",
        "  closestToAvg = 999\n",
        "  for key,value in userDict.items():   \n",
        "    if value > currentBiggestHeight:\n",
        "      currentBiggestHeight = value\n",
        "      tallestPerson = key\n",
        "    if value < currentSmallestHeight:\n",
        "      currentSmallestHeight = value\n",
        "      smallestPerson = key\n",
        "    differance = abs(value-avgHeight)\n",
        "    if differance < closestToAvg:\n",
        "      closestToAvg = differance\n",
        "      closestPerson = key\n",
        "\n",
        "  print(\"Biggest person is \",tallestPerson)\n",
        "  print(\"Smallest person is \",smallestPerson)\n",
        "  print(\"Average height is\", round(avgHeight))\n",
        "  print(\"Closest person to average height is \", closestPerson) \n",
        "\n",
        "names_heights()"
      ],
      "execution_count": 156,
      "outputs": [
        {
          "output_type": "stream",
          "name": "stdout",
          "text": [
            "Enter a name, or type STOP John\n",
            "Enter height in cm 193\n",
            "Enter a name, or type STOP Max\n",
            "Enter height in cm 143\n",
            "Enter a name, or type STOP Zac\n",
            "Enter height in cm 158\n",
            "Enter a name, or type STOP STOP\n",
            "List of people by order of height from shortest to tallest {'Max': 143, 'Zac': 158, 'John': 193}\n",
            "Biggest person is  John\n",
            "Smallest person is  Max\n",
            "Average height is 165\n",
            "Closest person to average height is  Zac\n"
          ]
        }
      ]
    }
  ]
}