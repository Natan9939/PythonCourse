{
  "nbformat": 4,
  "nbformat_minor": 0,
  "metadata": {
    "colab": {
      "name": "2.2 Working with Strings.ipynb",
      "provenance": [],
      "collapsed_sections": [],
      "include_colab_link": true
    },
    "kernelspec": {
      "name": "python3",
      "display_name": "Python 3"
    }
  },
  "cells": [
    {
      "cell_type": "markdown",
      "metadata": {
        "id": "view-in-github",
        "colab_type": "text"
      },
      "source": [
        "<a href=\"https://colab.research.google.com/github/Natan9939/PythonCourse/blob/main/2_2_Working_with_Strings.ipynb\" target=\"_parent\"><img src=\"https://colab.research.google.com/assets/colab-badge.svg\" alt=\"Open In Colab\"/></a>"
      ]
    },
    {
      "cell_type": "markdown",
      "metadata": {
        "id": "GdT0fwTCa4gI"
      },
      "source": [
        "# Working with Strings\n",
        "---\n",
        "\n",
        "The pandas library has a similar set of string functions to those available in python generally.  Because we often want to perform operations on a whole series of data values in a dataframe, we can use pandas string functions to do this:\n",
        "\n"
      ]
    },
    {
      "cell_type": "markdown",
      "source": [
        "### Creating a series from a pandas column\n",
        "---\n",
        "\n",
        "A column of data is treated by pandas as a Series.  There is a set of functions that you can access for working with a **series** (just one column from the data table).\n",
        "\n",
        "To get a 'series' from a dataframe, you would split the column from the rest of the dataframe by taking a copy of it and storing it in a new variable (which is very similar to a list).\n",
        "\n",
        "The examples below show what you can do with a Series rather than a whole table.\n",
        "\n",
        "To get a column of data as a series:\n",
        "\n",
        "```\n",
        "series_data = df['date']\n",
        "```\n",
        "or\n",
        "```\n",
        "price_series = df['price']\n",
        "```\n",
        "where 'date' or 'price' are the names of the columns in the dataframe"
      ],
      "metadata": {
        "id": "GEi6lFzV2dAa"
      }
    },
    {
      "cell_type": "markdown",
      "metadata": {
        "id": "ozWLM6Pfa7d_"
      },
      "source": [
        "### Splitting data \n",
        "---\n",
        "\n",
        "Series.str.split() *to split a column's strings into components*    \n",
        "Series.str.get() *to get one of the components after the split*  \n",
        "\n",
        "You can **daisychain** these together:   \n",
        "\n",
        "`Series.str.split().str.get()`\n",
        "\n",
        "* `split()` will split by white space unless specified, for example if you wanted to split by \"/\" you would use `split(\"/\")`  \n",
        "\n",
        "* `get()` requires a parameter of the value position of the string you would like to 'get'. If you want the first word eg 1999, use `get(0)`.\n",
        "\n",
        "\n",
        "*Hint: remember to save your result into a new column* \n",
        "\n",
        "### Exercise 1 strings\n",
        "---\n",
        "\n",
        "Let's use the data set 'Housing in London' at 'https://raw.githubusercontent.com/futureCodersSE/working-with-data/main/Data%20sets/housing_in_london_yearly_variables.csv'\n",
        "\n",
        "The date, in this dataset is a string.   To filter for a particular year, we will need to extract the first four letters as a substring.  We can create a new column called **year**, which just contains the year, stored as a number.\n",
        "\n",
        "The date is written in the format yyyy-mm-dd.  We can split the year around the '-' and then use the first component.\n",
        "\n",
        "\n",
        "Create a function called **get_year()** which splits the data from the date column, and creates a year column with just the year before returning the year column.\n",
        "\n",
        "\n",
        "**Test output**:  \n",
        "\n",
        "```\n",
        "0       1999\n",
        "1       1999\n",
        "2       1999\n",
        "3       1999\n",
        "4       1999\n",
        "        ... \n",
        "1066    2019\n",
        "1067    2019\n",
        "1068    2019\n",
        "1069    2019\n",
        "1070    2019\n",
        "Name: year, Length: 1071, dtype: object\n",
        "```"
      ]
    },
    {
      "cell_type": "code",
      "metadata": {
        "id": "ZuLewd421t_c",
        "colab": {
          "base_uri": "https://localhost:8080/"
        },
        "outputId": "33550240-1483-480a-cdaa-1386d803baaf"
      },
      "source": [
        "import pandas as pd\n",
        "df = pd.read_csv(\"https://raw.githubusercontent.com/futureCodersSE/working-with-data/main/Data%20sets/housing_in_london_yearly_variables.csv\")\n",
        "\n",
        "def get_year():\n",
        "  # add code below to return a new series created from the year column, with just years \n",
        "  year = df[\"date\"].str.split(\"-\").str.get(0)\n",
        "  return year\n",
        "\n",
        "\n",
        "\n",
        "\n",
        "# run and test if returned series is of correct length and has correct first row \n",
        "\n",
        "actual_len = len(get_year())\n",
        "actual_value = get_year().iloc[0]\n",
        "expected_len = 1071\n",
        "expected_val = \"1999\"\n",
        "\n",
        "if actual_len == expected_len and actual_value == expected_val:\n",
        "  print(\"Test passed expected length 1071 and first value 1999 and got\", actual_len, actual_value)\n",
        "else: \n",
        "  print(\"Test failed expected length 1071 and first value 1999 and got length\", actual_len, \"value\", actual_value)\n",
        "\n",
        "get_year()\n"
      ],
      "execution_count": 3,
      "outputs": [
        {
          "output_type": "stream",
          "name": "stdout",
          "text": [
            "Test passed expected length 1071 and first value 1999 and got 1071 1999\n"
          ]
        },
        {
          "output_type": "execute_result",
          "data": {
            "text/plain": [
              "0       1999\n",
              "1       1999\n",
              "2       1999\n",
              "3       1999\n",
              "4       1999\n",
              "        ... \n",
              "1066    2019\n",
              "1067    2019\n",
              "1068    2019\n",
              "1069    2019\n",
              "1070    2019\n",
              "Name: date, Length: 1071, dtype: object"
            ]
          },
          "metadata": {},
          "execution_count": 3
        }
      ]
    },
    {
      "cell_type": "markdown",
      "metadata": {
        "id": "IPAgjR5U1utf"
      },
      "source": [
        "### Exercise 2\n",
        "---\n",
        "\n",
        "In exercise 1 you have extracted the year, but it's dtype is 'object' (it is still a string).  You can convert to integer by adding  .astype(int) to the daisychain.\n",
        "\n",
        "Create a new function called **get_int_year()**, `return` the year column with values of type int. \n",
        "\n",
        "**Test output**:  \n",
        "\n",
        "```\n",
        "...\n",
        "Name: year, Length: 1071, dtype: int64\n",
        "```\n",
        "\n"
      ]
    },
    {
      "cell_type": "code",
      "metadata": {
        "id": "3SuKrrvD2f1b",
        "colab": {
          "base_uri": "https://localhost:8080/"
        },
        "outputId": "a4a75483-c849-4da1-943f-6e89351a9726"
      },
      "source": [
        "def get_int_year():\n",
        "  # add code below to return a year column where values are of integer type\n",
        "\n",
        "  year = df[\"date\"].str.split(\"-\").str.get(0).astype(int)\n",
        "  return year\n",
        "\n",
        "\n",
        "\n",
        "\n",
        "# run and test if your returned series is of type int\n",
        "\n",
        "import numpy as np\n",
        "\n",
        "actual = get_int_year().dtype\n",
        "expected = np.int64\n",
        "\n",
        "if actual == expected:\n",
        "  print(\"Test passed\", actual)\n",
        "else:\n",
        "  print(\"Test failed, expected\", expected, \"got\", actual)"
      ],
      "execution_count": null,
      "outputs": [
        {
          "output_type": "stream",
          "name": "stdout",
          "text": [
            "Test passed int64\n"
          ]
        }
      ]
    },
    {
      "cell_type": "markdown",
      "metadata": {
        "id": "spoUBwxT2gSi"
      },
      "source": [
        "### Exercise 3\n",
        "---\n",
        "\n",
        "All the areas in the data set are in lower case.  To prepare the data for reporting, you may want to capitalise.  Use .str.title() to do this.\n",
        "\n",
        "Create the function **get_title_areas()** to do this. `Return` the newly capitalised area column "
      ]
    },
    {
      "cell_type": "code",
      "metadata": {
        "id": "5fLUjUYk4AyI",
        "colab": {
          "base_uri": "https://localhost:8080/"
        },
        "outputId": "e7db5b06-5fc9-4019-ee66-464621491bd2"
      },
      "source": [
        "def get_title_areas():\n",
        "  # add code below to capitalise the first letter of each string in the column 'area'\n",
        "  titleArea = df[\"area\"].str.title()\n",
        "  return titleArea\n",
        "\n",
        "\n",
        "\n",
        "\n",
        "\n",
        "\n",
        "# run and test if the first row of the area column is now correct \n",
        "\n",
        "actual = get_title_areas().iloc[0]\n",
        "expected = \"City Of London\"\n",
        "\n",
        "if actual == expected:\n",
        "  print(\"Test passed\", actual)\n",
        "else:\n",
        "  print(\"Test failed, expected\", expected, \"got\", actual)"
      ],
      "execution_count": null,
      "outputs": [
        {
          "output_type": "stream",
          "name": "stdout",
          "text": [
            "Test passed City Of London\n"
          ]
        }
      ]
    },
    {
      "cell_type": "markdown",
      "metadata": {
        "id": "FuUQQF2a4CPX"
      },
      "source": [
        "### Exercise 4 - Filter all areas to find all with 'And' in the name\n",
        "---\n",
        "\n",
        "Create a function called **get_and()** which uses `str.contains()` and a search (e.g. df[df['area'].str.contains()]) to filter and `return` all areas with 'And' in the name  (Note:  case is important)\n",
        "\n",
        "**Test output**:  \n",
        "105 rows × 13 columns\n"
      ]
    },
    {
      "cell_type": "code",
      "metadata": {
        "id": "pmT32YMq4BA8",
        "colab": {
          "base_uri": "https://localhost:8080/"
        },
        "outputId": "04ac2d18-ec42-4fd6-85d7-172196bf372e"
      },
      "source": [
        "def get_and():\n",
        "# add code to return just rows in which area contains 'And'\n",
        "  return df[df['area'].str.contains(\" and \")]\n",
        "\n",
        "\n",
        "\n",
        "\n",
        "\n",
        "# run and test if returned is correct length \n",
        "\n",
        "actual = len(get_and())\n",
        "expected = 105\n",
        "\n",
        "if actual == expected:\n",
        "  print(\"Test passed\", actual)\n",
        "else:\n",
        "  print(\"Test failed, expected\", expected, \"got\", actual)"
      ],
      "execution_count": null,
      "outputs": [
        {
          "output_type": "stream",
          "name": "stdout",
          "text": [
            "Test passed 105\n"
          ]
        }
      ]
    },
    {
      "cell_type": "markdown",
      "metadata": {
        "id": "8ChmyffT7wDK"
      },
      "source": [
        "### Exercise 5\n",
        "---\n",
        "\n",
        "Filter the data for all areas starting with 'Ba'  \n",
        "\n",
        "*hint: use `startswith()`*\n",
        "\n",
        "**Test Ouput:**  \n",
        "42 rows, first row has area 'Barking and Dagenham'"
      ]
    },
    {
      "cell_type": "code",
      "metadata": {
        "id": "li8sAN3O8Zxp",
        "colab": {
          "base_uri": "https://localhost:8080/"
        },
        "outputId": "978940b0-91ea-4333-f036-5ff3003e24b8"
      },
      "source": [
        "def get_ba():\n",
        "  # add code to filter for all areas starting with 'Ba' \n",
        "  return df[df[\"area\"].str.startswith(\"ba\")]\n",
        "\n",
        "\n",
        "\n",
        "# run and test if your returned rows are the right length \n",
        "\n",
        "actual = len(get_ba())\n",
        "expected = 42 \n",
        "\n",
        "if actual == expected:\n",
        "  print(\"Test passed\", actual)\n",
        "else:\n",
        "  print(\"Test failed, expected\", expected, \"got\", actual)\n"
      ],
      "execution_count": 4,
      "outputs": [
        {
          "output_type": "stream",
          "name": "stdout",
          "text": [
            "Test passed 42\n"
          ]
        }
      ]
    },
    {
      "cell_type": "markdown",
      "metadata": {
        "id": "OrSsOstK8Z9_"
      },
      "source": [
        "### Exercise 6\n",
        "---\n",
        "Create function called **get_ham()** to filter and `return` the data for all areas ending with 'ham', for the year 2000\n",
        "\n",
        "*hint: use `endswith()`*   \n",
        "\n",
        "**Test output**:  \n",
        "4 rows (barking and dagenham, hammersmith and fulham, lewisham, newham)  "
      ]
    },
    {
      "cell_type": "code",
      "metadata": {
        "id": "lMJckNo-ab3z",
        "colab": {
          "base_uri": "https://localhost:8080/"
        },
        "outputId": "eb273e7f-145f-4dc3-d88c-4e973675baab"
      },
      "source": [
        "def get_ham():\n",
        "  # add code to return rows which end with 'ham' for the year 2000\n",
        "  return df[df[\"area\"].str.endswith(\"ham\") & (df[\"date\"].str.contains(\"2000\"))] \n",
        "  \n",
        "\n",
        "\n",
        "\n",
        "# run and test if correct number of rows are returned\n",
        "\n",
        "actual = len(get_ham())\n",
        "expected = 4 \n",
        "\n",
        "if actual == expected:\n",
        "  print(\"Test passed\", actual)\n",
        "else:\n",
        "  print(\"Test failed, expected\", expected, \"got\", actual)"
      ],
      "execution_count": 13,
      "outputs": [
        {
          "output_type": "stream",
          "name": "stdout",
          "text": [
            "Test passed 4\n"
          ]
        }
      ]
    },
    {
      "cell_type": "markdown",
      "metadata": {
        "id": "t_niKyF39X4q"
      },
      "source": [
        "### Exercise 7 - new data set\n",
        "---\n",
        "\n",
        "Use the data set here:  https://github.com/futureCodersSE/working-with-data/blob/main/Data%20sets/public_use-talent-migration.xlsx?raw=true\n",
        "\n",
        "Read the data from the sheet 'Skill Migration'  \n",
        "\n",
        "Write a function called **create_new_df()** which will inspect the data, then create and return new dataframe with the following changes:\n",
        "\n",
        "1.  Remove the word 'Skills' from the 'skill_group_category' column   \n",
        "  *hint: you can use the `str.rstrip()` function*\n",
        "2.  Convert country_code to uppercase    \n",
        "  *hint: try `upper()`*  \n",
        "4.  Remove the skill_group_id and the wb_income columns\n",
        "3.  Filter for regions containing 'Asia'  \n",
        "  *hint: you might have to `return` it*\n",
        "\n",
        "**Test output**:  \n",
        "9969 rows × 10 columns"
      ]
    },
    {
      "cell_type": "code",
      "metadata": {
        "id": "UGfVBX1FCjZj",
        "colab": {
          "base_uri": "https://localhost:8080/"
        },
        "outputId": "940b4c1e-d1b7-4a79-f4b8-c8f76f3a0679"
      },
      "source": [
        "migrationDF = pd.read_excel(\"https://github.com/futureCodersSE/working-with-data/blob/main/Data%20sets/public_use-talent-migration.xlsx?raw=true\", sheet_name=\"Skill Migration\")\n",
        "def create_new_df(df):\n",
        "  \n",
        "  # add code below to return a df with 'Skills' removed, country_code in uppercase, no skill_group_id or wb_income columns and only for regions containing Asia \n",
        "  df[\"skill_group_category\"] =  df[\"skill_group_category\"].str.rstrip(\"Skills\")\n",
        "  df[\"country_code\"] = df[\"country_code\"].str.upper()\n",
        "  df.drop(columns = [\"skill_group_id\", \"wb_income\"], inplace = True)\n",
        "  df = df[df['wb_region'].str.contains(\"Asia\")]\n",
        "  return df\n",
        "\n",
        "\n",
        "\n",
        "\n",
        "\n",
        "# run and test if returned dataframe is correct length, with the right number of columns  and first row skill_group_category is correct \n",
        "test_df = create_new_df(migrationDF)\n",
        "actual_len = len(test_df)\n",
        "actual_col = len(test_df.columns)\n",
        "expected_len = 9969\n",
        "expected_col = 10\n",
        "actual_skill = test_df['skill_group_category'].iloc[0]\n",
        "expected_skill = 'Tech '\n",
        "\n",
        "if actual_len == expected_len and actual_col == expected_col and actual_skill == expected_skill:\n",
        "  print(\"Test passed\", actual_len, \"x\", actual_col, actual_skill)\n",
        "else:\n",
        "  print(\"Test failed, expected\", expected_len, \"x\", expected_col, expected_skill, \"got\", actual_len, \"x\", actual_col, actual_skill)"
      ],
      "execution_count": 23,
      "outputs": [
        {
          "output_type": "stream",
          "name": "stdout",
          "text": [
            "Test passed 9969 x 10 Tech \n"
          ]
        }
      ]
    },
    {
      "cell_type": "markdown",
      "metadata": {
        "id": "r_i4oQaoEKoY"
      },
      "source": [
        "### Exercise 8\n",
        "---\n",
        "\n",
        "Write a function called **clean_skills()** that will:\n",
        "1. rename the **net_per_10K_year** columns to be just the year\n",
        "2. in the **skill_group_category** column replace the 'z' in 'specialized' with 's' to Anglicise the spelling. \n",
        "\n",
        "The function should `return` the cleaned data.  \n",
        "\n",
        "Hint:  You can use the `replace()` function to replace substring's and characters in both column headings and the actual data.  \n",
        "* `.str.replace(\"old\",\"new\")`\n",
        "\n",
        "**Test output**:  \n",
        "17617 rows × 12 columns, with z replace by s in Specialized  \n",
        "Column names: country_code\tcountry_name\twb_income\twb_region\tskill_group_id\tskill_group_category\tskill_group_name\t2015\t2016\t2017\t2018\t2019"
      ]
    },
    {
      "cell_type": "code",
      "metadata": {
        "id": "AEWS56l4JKx3",
        "colab": {
          "base_uri": "https://localhost:8080/"
        },
        "outputId": "4953a41e-352e-42d5-9f1e-1ca94ab3aaae"
      },
      "source": [
        "migration = pd.read_excel(\"https://github.com/futureCodersSE/working-with-data/blob/main/Data%20sets/public_use-talent-migration.xlsx?raw=true\", sheet_name=\"Skill Migration\")\n",
        "\n",
        "def clean_skills(df):\n",
        "  df.columns = df.columns.str.replace('net_per_10K_', '')\n",
        "  #display(df)\n",
        "  df[\"skill_group_category\"] = df[\"skill_group_category\"].str.replace(\"z\",\"s\")\n",
        "  return df\n",
        "\n",
        "# run and test if columns have correct names and specialised is anglised \n",
        "test_df = clean_skills(migration)\n",
        "\n",
        "if (test_df['skill_group_category'].str.contains('Specialised').any() == True) and (test_df.columns.str.contains('net_per_10K_').any() == False):\n",
        "  print(\"Test passed\")\n",
        "else:\n",
        "  print(\"Test failed\")\n"
      ],
      "execution_count": 27,
      "outputs": [
        {
          "output_type": "stream",
          "name": "stdout",
          "text": [
            "Test passed\n"
          ]
        }
      ]
    },
    {
      "cell_type": "code",
      "source": [
        ""
      ],
      "metadata": {
        "id": "Iex57JX4GfB8"
      },
      "execution_count": null,
      "outputs": []
    },
    {
      "cell_type": "markdown",
      "metadata": {
        "id": "Pqc9I5VpJLpR"
      },
      "source": [
        "### Exercise 9\n",
        "---\n",
        "\n",
        "Read the 'Country Migration' sheet.\n",
        "\n",
        "Write a function that will:  \n",
        "*  convert the country codes to upper case  \n",
        "*  drop the lat and long columns for both base and target  \n",
        "*  rename the net_per_10K_year columns to year only  \n",
        "*  filter for base_country_wb_region contains 'Africa' and target_country_wb_region contains Asia  \n",
        "\n",
        "**Test output**:  \n",
        "```\n",
        "base_country_code\tbase_country_name\tbase_country_wb_income\tbase_country_wb_region\ttarget_country_code\ttarget_country_name\ttarget_country_wb_income\ttarget_country_wb_region\t2015\t2016\t2017\t2018\t2019\n",
        "0\tAE\tUnited Arab Emirates\tHigh Income\tMiddle East & North Africa\tAF\tAfghanistan\tLow Income\tSouth Asia\t0.19\t0.16\t0.11\t-0.05\t-0.02\n",
        "4\tAE\tUnited Arab Emirates\tHigh Income\tMiddle East & North Africa\tAM\tArmenia\tUpper Middle Income\tEurope & Central Asia\t0.10\t0.05\t0.03\t-0.01\t0.02\n",
        "5\tAE\tUnited Arab Emirates\tHigh Income\tMiddle East & North Africa\tAU\tAustralia\tHigh Income\tEast Asia & Pacific\t-1.06\t-3.31\t-4.01\t-4.58\t-4.09\n",
        "6\tAE\tUnited Arab Emirates\tHigh Income\tMiddle East & North Africa\tAT\tAustria\tHigh Income\tEurope & Central Asia\t0.11\t-0.08\t-0.07\t-0.05\t-0.16\n",
        "7\tAE\tUnited Arab Emirates\tHigh Income\tMiddle East & North Africa\tAZ\tAzerbaijan\tUpper Middle Income\tEurope & Central Asia\t0.24\t0.25\t0.10\t0.05\t0.04\n",
        "...\t...\t...\t...\t...\t...\t...\t...\t...\t...\t...\t...\t...\t...\n",
        "4132\tZM\tZambia\tLower Middle Income\tSub-Saharan Africa\tGB\tUnited Kingdom\tHigh Income\tEurope & Central Asia\t43.27\t27.60\t7.88\t6.90\t3.68\n",
        "4135\tZW\tZimbabwe\tLow Income\tSub-Saharan Africa\tAU\tAustralia\tHigh Income\tEast Asia & Pacific\t-1.31\t-2.33\t-2.10\t-2.08\t-1.84\n",
        "4138\tZW\tZimbabwe\tLow Income\tSub-Saharan Africa\tIS\tIceland\tHigh Income\tEurope & Central Asia\t8.52\t6.22\t2.35\t1.81\t0.97\n",
        "4142\tZW\tZimbabwe\tLow Income\tSub-Saharan Africa\tNO\tNorway\tHigh Income\tEurope & Central Asia\t2.88\t6.46\t2.10\t0.33\t-0.13\n",
        "4145\tZW\tZimbabwe\tLow Income\tSub-Saharan Africa\tGB\tUnited Kingdom\tHigh Income\tEurope & Central Asia\t3.91\t4.66\t0.74\t-0.66\t-1.97\n",
        "478 rows × 13 columns\n",
        "```\n",
        "\n"
      ]
    },
    {
      "cell_type": "code",
      "metadata": {
        "id": "jYu6n_jF9v1Y",
        "colab": {
          "base_uri": "https://localhost:8080/",
          "height": 441
        },
        "outputId": "30488333-ffb2-46a1-c93c-21054cea4ebf"
      },
      "source": [
        "df = pd.read_excel(\"https://github.com/futureCodersSE/working-with-data/blob/main/Data%20sets/public_use-talent-migration.xlsx?raw=true\", sheet_name=\"Country Migration\")\n",
        "def clean_country_mig(df):\n",
        "  # add code below to clean the data \n",
        " #df = pd.read_excel(\"https://github.com/futureCodersSE/working-with-data/blob/main/Data%20sets/public_use-talent-migration.xlsx?raw=true\", sheet_name=\"Country Migration\")\n",
        " df[\"base_country_code\"] = df[\"base_country_code\"].str.upper()\n",
        " df.drop([\"base_lat\",\"base_long\",\"target_lat\",\"target_long\"], axis=1, inplace=True)\n",
        " df.columns = df.columns.str.replace('net_per_10K_', '')\n",
        " df = df[(df[\"base_country_wb_region\"].str.contains(\"Africa\")) & (df[\"target_country_wb_region\"].str.contains(\"Asia\"))]\n",
        " display(df)\n",
        " return df\n",
        "\n",
        "\n",
        "\n",
        "\n",
        "# run test if there is the correct number of columns, country codes are in uppercase and year columns have been reformatted \n",
        "\n",
        "test_df = clean_country_mig(df)\n",
        "actual_col_len = len(test_df.columns)\n",
        "expected = 13\n",
        "\n",
        "if actual_col_len == expected and (df['base_country_code'].str.islower().any() == False) and (df.columns.str.contains('net_per_10K_').any() == False):\n",
        "  print(\"Test passed\")\n",
        "else:\n",
        "  print(\"Test failed\")"
      ],
      "execution_count": 35,
      "outputs": [
        {
          "output_type": "display_data",
          "data": {
            "text/plain": [
              "     base_country_code     base_country_name base_country_wb_income  \\\n",
              "0                   AE  United Arab Emirates            High Income   \n",
              "4                   AE  United Arab Emirates            High Income   \n",
              "5                   AE  United Arab Emirates            High Income   \n",
              "6                   AE  United Arab Emirates            High Income   \n",
              "7                   AE  United Arab Emirates            High Income   \n",
              "...                ...                   ...                    ...   \n",
              "4132                ZM                Zambia    Lower Middle Income   \n",
              "4135                ZW              Zimbabwe             Low Income   \n",
              "4138                ZW              Zimbabwe             Low Income   \n",
              "4142                ZW              Zimbabwe             Low Income   \n",
              "4145                ZW              Zimbabwe             Low Income   \n",
              "\n",
              "          base_country_wb_region target_country_code target_country_name  \\\n",
              "0     Middle East & North Africa                  af         Afghanistan   \n",
              "4     Middle East & North Africa                  am             Armenia   \n",
              "5     Middle East & North Africa                  au           Australia   \n",
              "6     Middle East & North Africa                  at             Austria   \n",
              "7     Middle East & North Africa                  az          Azerbaijan   \n",
              "...                          ...                 ...                 ...   \n",
              "4132          Sub-Saharan Africa                  gb      United Kingdom   \n",
              "4135          Sub-Saharan Africa                  au           Australia   \n",
              "4138          Sub-Saharan Africa                  is             Iceland   \n",
              "4142          Sub-Saharan Africa                  no              Norway   \n",
              "4145          Sub-Saharan Africa                  gb      United Kingdom   \n",
              "\n",
              "     target_country_wb_income target_country_wb_region   2015   2016  2017  \\\n",
              "0                  Low Income               South Asia   0.19   0.16  0.11   \n",
              "4         Upper Middle Income    Europe & Central Asia   0.10   0.05  0.03   \n",
              "5                 High Income      East Asia & Pacific  -1.06  -3.31 -4.01   \n",
              "6                 High Income    Europe & Central Asia   0.11  -0.08 -0.07   \n",
              "7         Upper Middle Income    Europe & Central Asia   0.24   0.25  0.10   \n",
              "...                       ...                      ...    ...    ...   ...   \n",
              "4132              High Income    Europe & Central Asia  43.27  27.60  7.88   \n",
              "4135              High Income      East Asia & Pacific  -1.31  -2.33 -2.10   \n",
              "4138              High Income    Europe & Central Asia   8.52   6.22  2.35   \n",
              "4142              High Income    Europe & Central Asia   2.88   6.46  2.10   \n",
              "4145              High Income    Europe & Central Asia   3.91   4.66  0.74   \n",
              "\n",
              "      2018  2019  \n",
              "0    -0.05 -0.02  \n",
              "4    -0.01  0.02  \n",
              "5    -4.58 -4.09  \n",
              "6    -0.05 -0.16  \n",
              "7     0.05  0.04  \n",
              "...    ...   ...  \n",
              "4132  6.90  3.68  \n",
              "4135 -2.08 -1.84  \n",
              "4138  1.81  0.97  \n",
              "4142  0.33 -0.13  \n",
              "4145 -0.66 -1.97  \n",
              "\n",
              "[478 rows x 13 columns]"
            ],
            "text/html": [
              "\n",
              "  <div id=\"df-879216bb-e3d2-4092-bdec-e3d0380f1836\">\n",
              "    <div class=\"colab-df-container\">\n",
              "      <div>\n",
              "<style scoped>\n",
              "    .dataframe tbody tr th:only-of-type {\n",
              "        vertical-align: middle;\n",
              "    }\n",
              "\n",
              "    .dataframe tbody tr th {\n",
              "        vertical-align: top;\n",
              "    }\n",
              "\n",
              "    .dataframe thead th {\n",
              "        text-align: right;\n",
              "    }\n",
              "</style>\n",
              "<table border=\"1\" class=\"dataframe\">\n",
              "  <thead>\n",
              "    <tr style=\"text-align: right;\">\n",
              "      <th></th>\n",
              "      <th>base_country_code</th>\n",
              "      <th>base_country_name</th>\n",
              "      <th>base_country_wb_income</th>\n",
              "      <th>base_country_wb_region</th>\n",
              "      <th>target_country_code</th>\n",
              "      <th>target_country_name</th>\n",
              "      <th>target_country_wb_income</th>\n",
              "      <th>target_country_wb_region</th>\n",
              "      <th>2015</th>\n",
              "      <th>2016</th>\n",
              "      <th>2017</th>\n",
              "      <th>2018</th>\n",
              "      <th>2019</th>\n",
              "    </tr>\n",
              "  </thead>\n",
              "  <tbody>\n",
              "    <tr>\n",
              "      <th>0</th>\n",
              "      <td>AE</td>\n",
              "      <td>United Arab Emirates</td>\n",
              "      <td>High Income</td>\n",
              "      <td>Middle East &amp; North Africa</td>\n",
              "      <td>af</td>\n",
              "      <td>Afghanistan</td>\n",
              "      <td>Low Income</td>\n",
              "      <td>South Asia</td>\n",
              "      <td>0.19</td>\n",
              "      <td>0.16</td>\n",
              "      <td>0.11</td>\n",
              "      <td>-0.05</td>\n",
              "      <td>-0.02</td>\n",
              "    </tr>\n",
              "    <tr>\n",
              "      <th>4</th>\n",
              "      <td>AE</td>\n",
              "      <td>United Arab Emirates</td>\n",
              "      <td>High Income</td>\n",
              "      <td>Middle East &amp; North Africa</td>\n",
              "      <td>am</td>\n",
              "      <td>Armenia</td>\n",
              "      <td>Upper Middle Income</td>\n",
              "      <td>Europe &amp; Central Asia</td>\n",
              "      <td>0.10</td>\n",
              "      <td>0.05</td>\n",
              "      <td>0.03</td>\n",
              "      <td>-0.01</td>\n",
              "      <td>0.02</td>\n",
              "    </tr>\n",
              "    <tr>\n",
              "      <th>5</th>\n",
              "      <td>AE</td>\n",
              "      <td>United Arab Emirates</td>\n",
              "      <td>High Income</td>\n",
              "      <td>Middle East &amp; North Africa</td>\n",
              "      <td>au</td>\n",
              "      <td>Australia</td>\n",
              "      <td>High Income</td>\n",
              "      <td>East Asia &amp; Pacific</td>\n",
              "      <td>-1.06</td>\n",
              "      <td>-3.31</td>\n",
              "      <td>-4.01</td>\n",
              "      <td>-4.58</td>\n",
              "      <td>-4.09</td>\n",
              "    </tr>\n",
              "    <tr>\n",
              "      <th>6</th>\n",
              "      <td>AE</td>\n",
              "      <td>United Arab Emirates</td>\n",
              "      <td>High Income</td>\n",
              "      <td>Middle East &amp; North Africa</td>\n",
              "      <td>at</td>\n",
              "      <td>Austria</td>\n",
              "      <td>High Income</td>\n",
              "      <td>Europe &amp; Central Asia</td>\n",
              "      <td>0.11</td>\n",
              "      <td>-0.08</td>\n",
              "      <td>-0.07</td>\n",
              "      <td>-0.05</td>\n",
              "      <td>-0.16</td>\n",
              "    </tr>\n",
              "    <tr>\n",
              "      <th>7</th>\n",
              "      <td>AE</td>\n",
              "      <td>United Arab Emirates</td>\n",
              "      <td>High Income</td>\n",
              "      <td>Middle East &amp; North Africa</td>\n",
              "      <td>az</td>\n",
              "      <td>Azerbaijan</td>\n",
              "      <td>Upper Middle Income</td>\n",
              "      <td>Europe &amp; Central Asia</td>\n",
              "      <td>0.24</td>\n",
              "      <td>0.25</td>\n",
              "      <td>0.10</td>\n",
              "      <td>0.05</td>\n",
              "      <td>0.04</td>\n",
              "    </tr>\n",
              "    <tr>\n",
              "      <th>...</th>\n",
              "      <td>...</td>\n",
              "      <td>...</td>\n",
              "      <td>...</td>\n",
              "      <td>...</td>\n",
              "      <td>...</td>\n",
              "      <td>...</td>\n",
              "      <td>...</td>\n",
              "      <td>...</td>\n",
              "      <td>...</td>\n",
              "      <td>...</td>\n",
              "      <td>...</td>\n",
              "      <td>...</td>\n",
              "      <td>...</td>\n",
              "    </tr>\n",
              "    <tr>\n",
              "      <th>4132</th>\n",
              "      <td>ZM</td>\n",
              "      <td>Zambia</td>\n",
              "      <td>Lower Middle Income</td>\n",
              "      <td>Sub-Saharan Africa</td>\n",
              "      <td>gb</td>\n",
              "      <td>United Kingdom</td>\n",
              "      <td>High Income</td>\n",
              "      <td>Europe &amp; Central Asia</td>\n",
              "      <td>43.27</td>\n",
              "      <td>27.60</td>\n",
              "      <td>7.88</td>\n",
              "      <td>6.90</td>\n",
              "      <td>3.68</td>\n",
              "    </tr>\n",
              "    <tr>\n",
              "      <th>4135</th>\n",
              "      <td>ZW</td>\n",
              "      <td>Zimbabwe</td>\n",
              "      <td>Low Income</td>\n",
              "      <td>Sub-Saharan Africa</td>\n",
              "      <td>au</td>\n",
              "      <td>Australia</td>\n",
              "      <td>High Income</td>\n",
              "      <td>East Asia &amp; Pacific</td>\n",
              "      <td>-1.31</td>\n",
              "      <td>-2.33</td>\n",
              "      <td>-2.10</td>\n",
              "      <td>-2.08</td>\n",
              "      <td>-1.84</td>\n",
              "    </tr>\n",
              "    <tr>\n",
              "      <th>4138</th>\n",
              "      <td>ZW</td>\n",
              "      <td>Zimbabwe</td>\n",
              "      <td>Low Income</td>\n",
              "      <td>Sub-Saharan Africa</td>\n",
              "      <td>is</td>\n",
              "      <td>Iceland</td>\n",
              "      <td>High Income</td>\n",
              "      <td>Europe &amp; Central Asia</td>\n",
              "      <td>8.52</td>\n",
              "      <td>6.22</td>\n",
              "      <td>2.35</td>\n",
              "      <td>1.81</td>\n",
              "      <td>0.97</td>\n",
              "    </tr>\n",
              "    <tr>\n",
              "      <th>4142</th>\n",
              "      <td>ZW</td>\n",
              "      <td>Zimbabwe</td>\n",
              "      <td>Low Income</td>\n",
              "      <td>Sub-Saharan Africa</td>\n",
              "      <td>no</td>\n",
              "      <td>Norway</td>\n",
              "      <td>High Income</td>\n",
              "      <td>Europe &amp; Central Asia</td>\n",
              "      <td>2.88</td>\n",
              "      <td>6.46</td>\n",
              "      <td>2.10</td>\n",
              "      <td>0.33</td>\n",
              "      <td>-0.13</td>\n",
              "    </tr>\n",
              "    <tr>\n",
              "      <th>4145</th>\n",
              "      <td>ZW</td>\n",
              "      <td>Zimbabwe</td>\n",
              "      <td>Low Income</td>\n",
              "      <td>Sub-Saharan Africa</td>\n",
              "      <td>gb</td>\n",
              "      <td>United Kingdom</td>\n",
              "      <td>High Income</td>\n",
              "      <td>Europe &amp; Central Asia</td>\n",
              "      <td>3.91</td>\n",
              "      <td>4.66</td>\n",
              "      <td>0.74</td>\n",
              "      <td>-0.66</td>\n",
              "      <td>-1.97</td>\n",
              "    </tr>\n",
              "  </tbody>\n",
              "</table>\n",
              "<p>478 rows × 13 columns</p>\n",
              "</div>\n",
              "      <button class=\"colab-df-convert\" onclick=\"convertToInteractive('df-879216bb-e3d2-4092-bdec-e3d0380f1836')\"\n",
              "              title=\"Convert this dataframe to an interactive table.\"\n",
              "              style=\"display:none;\">\n",
              "        \n",
              "  <svg xmlns=\"http://www.w3.org/2000/svg\" height=\"24px\"viewBox=\"0 0 24 24\"\n",
              "       width=\"24px\">\n",
              "    <path d=\"M0 0h24v24H0V0z\" fill=\"none\"/>\n",
              "    <path d=\"M18.56 5.44l.94 2.06.94-2.06 2.06-.94-2.06-.94-.94-2.06-.94 2.06-2.06.94zm-11 1L8.5 8.5l.94-2.06 2.06-.94-2.06-.94L8.5 2.5l-.94 2.06-2.06.94zm10 10l.94 2.06.94-2.06 2.06-.94-2.06-.94-.94-2.06-.94 2.06-2.06.94z\"/><path d=\"M17.41 7.96l-1.37-1.37c-.4-.4-.92-.59-1.43-.59-.52 0-1.04.2-1.43.59L10.3 9.45l-7.72 7.72c-.78.78-.78 2.05 0 2.83L4 21.41c.39.39.9.59 1.41.59.51 0 1.02-.2 1.41-.59l7.78-7.78 2.81-2.81c.8-.78.8-2.07 0-2.86zM5.41 20L4 18.59l7.72-7.72 1.47 1.35L5.41 20z\"/>\n",
              "  </svg>\n",
              "      </button>\n",
              "      \n",
              "  <style>\n",
              "    .colab-df-container {\n",
              "      display:flex;\n",
              "      flex-wrap:wrap;\n",
              "      gap: 12px;\n",
              "    }\n",
              "\n",
              "    .colab-df-convert {\n",
              "      background-color: #E8F0FE;\n",
              "      border: none;\n",
              "      border-radius: 50%;\n",
              "      cursor: pointer;\n",
              "      display: none;\n",
              "      fill: #1967D2;\n",
              "      height: 32px;\n",
              "      padding: 0 0 0 0;\n",
              "      width: 32px;\n",
              "    }\n",
              "\n",
              "    .colab-df-convert:hover {\n",
              "      background-color: #E2EBFA;\n",
              "      box-shadow: 0px 1px 2px rgba(60, 64, 67, 0.3), 0px 1px 3px 1px rgba(60, 64, 67, 0.15);\n",
              "      fill: #174EA6;\n",
              "    }\n",
              "\n",
              "    [theme=dark] .colab-df-convert {\n",
              "      background-color: #3B4455;\n",
              "      fill: #D2E3FC;\n",
              "    }\n",
              "\n",
              "    [theme=dark] .colab-df-convert:hover {\n",
              "      background-color: #434B5C;\n",
              "      box-shadow: 0px 1px 3px 1px rgba(0, 0, 0, 0.15);\n",
              "      filter: drop-shadow(0px 1px 2px rgba(0, 0, 0, 0.3));\n",
              "      fill: #FFFFFF;\n",
              "    }\n",
              "  </style>\n",
              "\n",
              "      <script>\n",
              "        const buttonEl =\n",
              "          document.querySelector('#df-879216bb-e3d2-4092-bdec-e3d0380f1836 button.colab-df-convert');\n",
              "        buttonEl.style.display =\n",
              "          google.colab.kernel.accessAllowed ? 'block' : 'none';\n",
              "\n",
              "        async function convertToInteractive(key) {\n",
              "          const element = document.querySelector('#df-879216bb-e3d2-4092-bdec-e3d0380f1836');\n",
              "          const dataTable =\n",
              "            await google.colab.kernel.invokeFunction('convertToInteractive',\n",
              "                                                     [key], {});\n",
              "          if (!dataTable) return;\n",
              "\n",
              "          const docLinkHtml = 'Like what you see? Visit the ' +\n",
              "            '<a target=\"_blank\" href=https://colab.research.google.com/notebooks/data_table.ipynb>data table notebook</a>'\n",
              "            + ' to learn more about interactive tables.';\n",
              "          element.innerHTML = '';\n",
              "          dataTable['output_type'] = 'display_data';\n",
              "          await google.colab.output.renderOutput(dataTable, element);\n",
              "          const docLink = document.createElement('div');\n",
              "          docLink.innerHTML = docLinkHtml;\n",
              "          element.appendChild(docLink);\n",
              "        }\n",
              "      </script>\n",
              "    </div>\n",
              "  </div>\n",
              "  "
            ]
          },
          "metadata": {}
        },
        {
          "output_type": "stream",
          "name": "stdout",
          "text": [
            "Test passed\n"
          ]
        }
      ]
    },
    {
      "cell_type": "markdown",
      "metadata": {
        "id": "7V6mNsfsNrsd"
      },
      "source": [
        "### Exercise 10\n",
        "---\n",
        "\n",
        "Read the data from file 'https://raw.githubusercontent.com/pandas-dev/pandas/master/doc/data/titanic.csv'.\n",
        "\n",
        "Write a function that will return a new dataframe with just the married women listed, surname only.\n",
        "\n",
        "**Test output**:  \n",
        "```\n",
        "\tPassengerId\tSurvived\tPclass\tName\tSex\tAge\tSibSp\tParch\tTicket\tFare\tCabin\tEmbarked\n",
        "1\t2\t1\t1\tCumings\tfemale\t38.0\t1\t0\tPC 17599\t71.2833\tC85\tC\n",
        "3\t4\t1\t1\tFutrelle\tfemale\t35.0\t1\t0\t113803\t53.1000\tC123\tS\n",
        "8\t9\t1\t3\tJohnson\tfemale\t27.0\t0\t2\t347742\t11.1333\tNaN\tS\n",
        "9\t10\t1\t2\tNasser\tfemale\t14.0\t1\t0\t237736\t30.0708\tNaN\tC\n",
        "15\t16\t1\t2\tHewlett\tfemale\t55.0\t0\t0\t248706\t16.0000\tNaN\tS\n",
        "...\t...\t...\t...\t...\t...\t...\t...\t...\t...\t...\t...\t...\n",
        "871\t872\t1\t1\tBeckwith\tfemale\t47.0\t1\t1\t11751\t52.5542\tD35\tS\n",
        "874\t875\t1\t2\tAbelson\tfemale\t28.0\t1\t0\tP/PP 3381\t24.0000\tNaN\tC\n",
        "879\t880\t1\t1\tPotter\tfemale\t56.0\t0\t1\t11767\t83.1583\tC50\tC\n",
        "880\t881\t1\t2\tShelley\tfemale\t25.0\t0\t1\t230433\t26.0000\tNaN\tS\n",
        "885\t886\t0\t3\tRice\tfemale\t39.0\t0\t5\t382652\t29.1250\tNaN\tQ\n",
        "129 rows × 12 columns\n",
        "```\n",
        "\n",
        "\n",
        "\n"
      ]
    },
    {
      "cell_type": "code",
      "metadata": {
        "id": "J4gx3RHIOczI",
        "colab": {
          "base_uri": "https://localhost:8080/"
        },
        "outputId": "94a589c9-af3c-40da-f574-40a87998b8fc"
      },
      "source": [
        "titanic = pd.read_csv(\"https://raw.githubusercontent.com/pandas-dev/pandas/master/doc/data/titanic.csv\")\n",
        "def get_married(df):\n",
        "  # add code to return only the last names of married women\n",
        "  df = df[df[\"Name\"].str.contains(\"Mrs.\")]\n",
        "  df[\"Name\"] = df[\"Name\"].str.split(\", \").str.get(0)\n",
        "  return df\n",
        "\n",
        "\n",
        "\n",
        "# run and test if returned dataframe is correct length and has correct first row \n",
        "test_df = get_married(titanic)\n",
        "actual_len = len(test_df)\n",
        "expected_len = 129\n",
        "actual_name = test_df['Name'].iloc[0]\n",
        "expected_name = 'Cumings'\n",
        "\n",
        "if actual_len == expected_len and actual_name == expected_name:\n",
        "  print(\"Test passed, \", actual_len, actual_name)\n",
        "else:\n",
        "  print(\"Test failed expected \", expected_len, expected_name, \"got\", actual_len, actual_name)"
      ],
      "execution_count": 37,
      "outputs": [
        {
          "output_type": "stream",
          "name": "stdout",
          "text": [
            "Test passed,  129 Cumings\n"
          ]
        },
        {
          "output_type": "stream",
          "name": "stderr",
          "text": [
            "/usr/local/lib/python3.7/dist-packages/ipykernel_launcher.py:5: SettingWithCopyWarning: \n",
            "A value is trying to be set on a copy of a slice from a DataFrame.\n",
            "Try using .loc[row_indexer,col_indexer] = value instead\n",
            "\n",
            "See the caveats in the documentation: https://pandas.pydata.org/pandas-docs/stable/user_guide/indexing.html#returning-a-view-versus-a-copy\n",
            "  \"\"\"\n"
          ]
        }
      ]
    },
    {
      "cell_type": "markdown",
      "metadata": {
        "id": "22Rhwx2Sb1Ey"
      },
      "source": [
        "---\n",
        "### Optional extra practice\n",
        "\n",
        "There are some similar and some more challenging exercises [here](https://www.w3resource.com/python-exercises/date-time-exercise/) if you would like to practice more. The site has its own editor."
      ]
    },
    {
      "cell_type": "markdown",
      "metadata": {
        "id": "pQV2NO8umBSk"
      },
      "source": [
        "# Reflection\n",
        "----\n",
        "\n",
        "## What skills have you demonstrated in completing this notebook?"
      ]
    },
    {
      "cell_type": "markdown",
      "metadata": {
        "id": "NUVvt2r0mCKq"
      },
      "source": [
        "Your answer:"
      ]
    },
    {
      "cell_type": "markdown",
      "metadata": {
        "id": "SOrbWOuFmObq"
      },
      "source": [
        "## What caused you the most difficulty?"
      ]
    },
    {
      "cell_type": "markdown",
      "metadata": {
        "id": "G_eGng1GmO78"
      },
      "source": [
        "Your answer:"
      ]
    }
  ]
}